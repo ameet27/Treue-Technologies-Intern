{
 "cells": [
  {
   "cell_type": "markdown",
   "id": "b4de94dc",
   "metadata": {},
   "source": [
    "# 1] EMAIL SPAM PROJECT"
   ]
  },
  {
   "cell_type": "code",
   "execution_count": 1,
   "id": "28b41a1c",
   "metadata": {},
   "outputs": [],
   "source": [
    "# Problem Statement"
   ]
  },
  {
   "cell_type": "raw",
   "id": "e2231fcf",
   "metadata": {},
   "source": [
    "The objective of this project is to create an email spam detection system that uses machine learning algorithms to classify incoming emails. By training the model on a labeled dataset of spam and non-spam emails, we aim to develop an accurate and efficient spam detector that can reliably identify and categorize emails based on their content and characteristics."
   ]
  },
  {
   "cell_type": "code",
   "execution_count": 2,
   "id": "c4b253b5",
   "metadata": {},
   "outputs": [],
   "source": [
    "# IMPORT THE LIBRARIES"
   ]
  },
  {
   "cell_type": "code",
   "execution_count": 3,
   "id": "4dfe77cc",
   "metadata": {},
   "outputs": [],
   "source": [
    "import pandas as pd\n",
    "import numpy as np\n",
    "from sklearn.model_selection import train_test_split\n",
    "from sklearn.feature_extraction.text import TfidfVectorizer\n",
    "from sklearn.linear_model import LogisticRegression\n",
    "from sklearn.metrics import accuracy_score"
   ]
  },
  {
   "cell_type": "code",
   "execution_count": 4,
   "id": "e9f02a1a",
   "metadata": {},
   "outputs": [],
   "source": [
    "# READ THE DATA"
   ]
  },
  {
   "cell_type": "code",
   "execution_count": 38,
   "id": "ac92867e",
   "metadata": {},
   "outputs": [],
   "source": [
    "df_spam = pd.read_csv(\"Email_Spam_Dataset.csv\")"
   ]
  },
  {
   "cell_type": "code",
   "execution_count": 44,
   "id": "7de14e24",
   "metadata": {},
   "outputs": [
    {
     "data": {
      "text/html": [
       "<div>\n",
       "<style scoped>\n",
       "    .dataframe tbody tr th:only-of-type {\n",
       "        vertical-align: middle;\n",
       "    }\n",
       "\n",
       "    .dataframe tbody tr th {\n",
       "        vertical-align: top;\n",
       "    }\n",
       "\n",
       "    .dataframe thead th {\n",
       "        text-align: right;\n",
       "    }\n",
       "</style>\n",
       "<table border=\"1\" class=\"dataframe\">\n",
       "  <thead>\n",
       "    <tr style=\"text-align: right;\">\n",
       "      <th></th>\n",
       "      <th>v1</th>\n",
       "      <th>v2</th>\n",
       "      <th>Unnamed: 2</th>\n",
       "      <th>Unnamed: 3</th>\n",
       "      <th>Unnamed: 4</th>\n",
       "    </tr>\n",
       "  </thead>\n",
       "  <tbody>\n",
       "    <tr>\n",
       "      <th>0</th>\n",
       "      <td>ham</td>\n",
       "      <td>Go until jurong point, crazy.. Available only ...</td>\n",
       "      <td>NaN</td>\n",
       "      <td>NaN</td>\n",
       "      <td>NaN</td>\n",
       "    </tr>\n",
       "    <tr>\n",
       "      <th>1</th>\n",
       "      <td>ham</td>\n",
       "      <td>Ok lar... Joking wif u oni...</td>\n",
       "      <td>NaN</td>\n",
       "      <td>NaN</td>\n",
       "      <td>NaN</td>\n",
       "    </tr>\n",
       "    <tr>\n",
       "      <th>2</th>\n",
       "      <td>spam</td>\n",
       "      <td>Free entry in 2 a wkly comp to win FA Cup fina...</td>\n",
       "      <td>NaN</td>\n",
       "      <td>NaN</td>\n",
       "      <td>NaN</td>\n",
       "    </tr>\n",
       "    <tr>\n",
       "      <th>3</th>\n",
       "      <td>ham</td>\n",
       "      <td>U dun say so early hor... U c already then say...</td>\n",
       "      <td>NaN</td>\n",
       "      <td>NaN</td>\n",
       "      <td>NaN</td>\n",
       "    </tr>\n",
       "    <tr>\n",
       "      <th>4</th>\n",
       "      <td>ham</td>\n",
       "      <td>Nah I don't think he goes to usf, he lives aro...</td>\n",
       "      <td>NaN</td>\n",
       "      <td>NaN</td>\n",
       "      <td>NaN</td>\n",
       "    </tr>\n",
       "  </tbody>\n",
       "</table>\n",
       "</div>"
      ],
      "text/plain": [
       "     v1                                                 v2 Unnamed: 2  \\\n",
       "0   ham  Go until jurong point, crazy.. Available only ...        NaN   \n",
       "1   ham                      Ok lar... Joking wif u oni...        NaN   \n",
       "2  spam  Free entry in 2 a wkly comp to win FA Cup fina...        NaN   \n",
       "3   ham  U dun say so early hor... U c already then say...        NaN   \n",
       "4   ham  Nah I don't think he goes to usf, he lives aro...        NaN   \n",
       "\n",
       "  Unnamed: 3 Unnamed: 4  \n",
       "0        NaN        NaN  \n",
       "1        NaN        NaN  \n",
       "2        NaN        NaN  \n",
       "3        NaN        NaN  \n",
       "4        NaN        NaN  "
      ]
     },
     "execution_count": 44,
     "metadata": {},
     "output_type": "execute_result"
    }
   ],
   "source": [
    "df_spam.head()"
   ]
  },
  {
   "cell_type": "code",
   "execution_count": 7,
   "id": "95d8c6ee",
   "metadata": {},
   "outputs": [],
   "source": [
    "# EXPLORATORY DATA ANALYSIS"
   ]
  },
  {
   "cell_type": "code",
   "execution_count": 46,
   "id": "5595985d",
   "metadata": {},
   "outputs": [
    {
     "data": {
      "text/plain": [
       "(5572, 5)"
      ]
     },
     "execution_count": 46,
     "metadata": {},
     "output_type": "execute_result"
    }
   ],
   "source": [
    "df_spam.shape"
   ]
  },
  {
   "cell_type": "code",
   "execution_count": 8,
   "id": "494634d5",
   "metadata": {},
   "outputs": [
    {
     "name": "stdout",
     "output_type": "stream",
     "text": [
      "<class 'pandas.core.frame.DataFrame'>\n",
      "RangeIndex: 5572 entries, 0 to 5571\n",
      "Data columns (total 5 columns):\n",
      " #   Column      Non-Null Count  Dtype \n",
      "---  ------      --------------  ----- \n",
      " 0   v1          5572 non-null   object\n",
      " 1   v2          5572 non-null   object\n",
      " 2   Unnamed: 2  50 non-null     object\n",
      " 3   Unnamed: 3  12 non-null     object\n",
      " 4   Unnamed: 4  6 non-null      object\n",
      "dtypes: object(5)\n",
      "memory usage: 217.8+ KB\n"
     ]
    }
   ],
   "source": [
    "df_spam.info()"
   ]
  },
  {
   "cell_type": "code",
   "execution_count": 9,
   "id": "d41ca070",
   "metadata": {},
   "outputs": [
    {
     "data": {
      "text/plain": [
       "v1               0\n",
       "v2               0\n",
       "Unnamed: 2    5522\n",
       "Unnamed: 3    5560\n",
       "Unnamed: 4    5566\n",
       "dtype: int64"
      ]
     },
     "execution_count": 9,
     "metadata": {},
     "output_type": "execute_result"
    }
   ],
   "source": [
    "df_spam.isna().sum()"
   ]
  },
  {
   "cell_type": "code",
   "execution_count": 10,
   "id": "7631196c",
   "metadata": {},
   "outputs": [],
   "source": [
    "# Dropping the unnecessary columns"
   ]
  },
  {
   "cell_type": "code",
   "execution_count": 11,
   "id": "31e43d7d",
   "metadata": {},
   "outputs": [],
   "source": [
    "drop_list = [\"Unnamed: 2\",\"Unnamed: 3\",\"Unnamed: 4\"] "
   ]
  },
  {
   "cell_type": "code",
   "execution_count": 12,
   "id": "cde2d1e0",
   "metadata": {},
   "outputs": [],
   "source": [
    "df_spam.drop(drop_list,axis=1,inplace=True)"
   ]
  },
  {
   "cell_type": "code",
   "execution_count": 13,
   "id": "6da60ffe",
   "metadata": {},
   "outputs": [
    {
     "name": "stdout",
     "output_type": "stream",
     "text": [
      "<class 'pandas.core.frame.DataFrame'>\n",
      "RangeIndex: 5572 entries, 0 to 5571\n",
      "Data columns (total 2 columns):\n",
      " #   Column  Non-Null Count  Dtype \n",
      "---  ------  --------------  ----- \n",
      " 0   v1      5572 non-null   object\n",
      " 1   v2      5572 non-null   object\n",
      "dtypes: object(2)\n",
      "memory usage: 87.2+ KB\n"
     ]
    }
   ],
   "source": [
    "df_spam.info()"
   ]
  },
  {
   "cell_type": "code",
   "execution_count": 14,
   "id": "8d36114f",
   "metadata": {},
   "outputs": [],
   "source": [
    "# Handling Missing Values"
   ]
  },
  {
   "cell_type": "code",
   "execution_count": 15,
   "id": "434bc897",
   "metadata": {},
   "outputs": [],
   "source": [
    "df = df_spam.where((pd.notnull(df_spam)), '')"
   ]
  },
  {
   "cell_type": "code",
   "execution_count": 16,
   "id": "b78b1b60",
   "metadata": {},
   "outputs": [
    {
     "data": {
      "text/html": [
       "<div>\n",
       "<style scoped>\n",
       "    .dataframe tbody tr th:only-of-type {\n",
       "        vertical-align: middle;\n",
       "    }\n",
       "\n",
       "    .dataframe tbody tr th {\n",
       "        vertical-align: top;\n",
       "    }\n",
       "\n",
       "    .dataframe thead th {\n",
       "        text-align: right;\n",
       "    }\n",
       "</style>\n",
       "<table border=\"1\" class=\"dataframe\">\n",
       "  <thead>\n",
       "    <tr style=\"text-align: right;\">\n",
       "      <th></th>\n",
       "      <th>v1</th>\n",
       "      <th>v2</th>\n",
       "    </tr>\n",
       "  </thead>\n",
       "  <tbody>\n",
       "    <tr>\n",
       "      <th>0</th>\n",
       "      <td>ham</td>\n",
       "      <td>Go until jurong point, crazy.. Available only ...</td>\n",
       "    </tr>\n",
       "    <tr>\n",
       "      <th>1</th>\n",
       "      <td>ham</td>\n",
       "      <td>Ok lar... Joking wif u oni...</td>\n",
       "    </tr>\n",
       "    <tr>\n",
       "      <th>2</th>\n",
       "      <td>spam</td>\n",
       "      <td>Free entry in 2 a wkly comp to win FA Cup fina...</td>\n",
       "    </tr>\n",
       "    <tr>\n",
       "      <th>3</th>\n",
       "      <td>ham</td>\n",
       "      <td>U dun say so early hor... U c already then say...</td>\n",
       "    </tr>\n",
       "    <tr>\n",
       "      <th>4</th>\n",
       "      <td>ham</td>\n",
       "      <td>Nah I don't think he goes to usf, he lives aro...</td>\n",
       "    </tr>\n",
       "  </tbody>\n",
       "</table>\n",
       "</div>"
      ],
      "text/plain": [
       "     v1                                                 v2\n",
       "0   ham  Go until jurong point, crazy.. Available only ...\n",
       "1   ham                      Ok lar... Joking wif u oni...\n",
       "2  spam  Free entry in 2 a wkly comp to win FA Cup fina...\n",
       "3   ham  U dun say so early hor... U c already then say...\n",
       "4   ham  Nah I don't think he goes to usf, he lives aro..."
      ]
     },
     "execution_count": 16,
     "metadata": {},
     "output_type": "execute_result"
    }
   ],
   "source": [
    "df.head()"
   ]
  },
  {
   "cell_type": "code",
   "execution_count": 48,
   "id": "5c08e333",
   "metadata": {},
   "outputs": [
    {
     "data": {
      "text/plain": [
       "v1    0\n",
       "v2    0\n",
       "dtype: int64"
      ]
     },
     "execution_count": 48,
     "metadata": {},
     "output_type": "execute_result"
    }
   ],
   "source": [
    "df.isna().sum()"
   ]
  },
  {
   "cell_type": "code",
   "execution_count": 17,
   "id": "b7fa39e5",
   "metadata": {},
   "outputs": [],
   "source": [
    "# Labelling"
   ]
  },
  {
   "cell_type": "code",
   "execution_count": 18,
   "id": "b6bcfcf0",
   "metadata": {},
   "outputs": [],
   "source": [
    "df.loc[df['v1']=='spam','v1',]= 0\n",
    "df.loc[df['v1']=='ham','v1',]= 1"
   ]
  },
  {
   "cell_type": "code",
   "execution_count": 19,
   "id": "98653dc7",
   "metadata": {},
   "outputs": [],
   "source": [
    "X = df['v2']\n",
    "Y = df['v1']"
   ]
  },
  {
   "cell_type": "code",
   "execution_count": 20,
   "id": "61c8a043",
   "metadata": {},
   "outputs": [
    {
     "name": "stdout",
     "output_type": "stream",
     "text": [
      "0       Go until jurong point, crazy.. Available only ...\n",
      "1                           Ok lar... Joking wif u oni...\n",
      "2       Free entry in 2 a wkly comp to win FA Cup fina...\n",
      "3       U dun say so early hor... U c already then say...\n",
      "4       Nah I don't think he goes to usf, he lives aro...\n",
      "                              ...                        \n",
      "5567    This is the 2nd time we have tried 2 contact u...\n",
      "5568                Will �_ b going to esplanade fr home?\n",
      "5569    Pity, * was in mood for that. So...any other s...\n",
      "5570    The guy did some bitching but I acted like i'd...\n",
      "5571                           Rofl. Its true to its name\n",
      "Name: v2, Length: 5572, dtype: object\n"
     ]
    }
   ],
   "source": [
    "print(X)"
   ]
  },
  {
   "cell_type": "code",
   "execution_count": 21,
   "id": "0fdcc9f4",
   "metadata": {},
   "outputs": [
    {
     "name": "stdout",
     "output_type": "stream",
     "text": [
      "0       1\n",
      "1       1\n",
      "2       0\n",
      "3       1\n",
      "4       1\n",
      "       ..\n",
      "5567    0\n",
      "5568    1\n",
      "5569    1\n",
      "5570    1\n",
      "5571    1\n",
      "Name: v1, Length: 5572, dtype: object\n"
     ]
    }
   ],
   "source": [
    "print(Y)"
   ]
  },
  {
   "cell_type": "code",
   "execution_count": 22,
   "id": "68ff9630",
   "metadata": {},
   "outputs": [],
   "source": [
    "# Mode_Building"
   ]
  },
  {
   "cell_type": "code",
   "execution_count": 23,
   "id": "dd4c66d4",
   "metadata": {},
   "outputs": [],
   "source": [
    "X_TRAIN,X_TEST,Y_TRAIN,Y_TEST = train_test_split(X,Y,test_size=0.2,random_state = 30)"
   ]
  },
  {
   "cell_type": "code",
   "execution_count": 24,
   "id": "9a2e1b63",
   "metadata": {},
   "outputs": [
    {
     "name": "stdout",
     "output_type": "stream",
     "text": [
      "(5572,)\n",
      "(4457,)\n",
      "(1115,)\n"
     ]
    }
   ],
   "source": [
    "print(X.shape)\n",
    "print(X_TRAIN.shape)\n",
    "print(X_TEST.shape)"
   ]
  },
  {
   "cell_type": "code",
   "execution_count": null,
   "id": "675c8fb4",
   "metadata": {},
   "outputs": [],
   "source": [
    "# TEXT FEATURE EXTRACTION"
   ]
  },
  {
   "cell_type": "code",
   "execution_count": 25,
   "id": "3ec95f94",
   "metadata": {},
   "outputs": [],
   "source": [
    "feature_extraction = TfidfVectorizer(min_df = 1, stop_words = 'english',lowercase='True')\n",
    "\n",
    "X_TRAIN_FEATURES = feature_extraction.fit_transform(X_TRAIN)\n",
    "X_TEST_FEATURES = feature_extraction.transform(X_TEST)\n",
    "\n",
    "Y_TRAIN = Y_TRAIN.astype(\"int\")\n",
    "Y_TEST = Y_TEST.astype(\"int\")"
   ]
  },
  {
   "cell_type": "code",
   "execution_count": 26,
   "id": "96202218",
   "metadata": {},
   "outputs": [
    {
     "name": "stdout",
     "output_type": "stream",
     "text": [
      "353     Yo you guys ever figure out how much we need f...\n",
      "3565    Its ok..come to my home it vl nice to meet and...\n",
      "4335    Fyi I'm taking a quick shower, be at epsilon i...\n",
      "3259    I'm always looking for an excuse to be in the ...\n",
      "5044    We have sent JD for Customer Service cum Accou...\n",
      "                              ...                        \n",
      "919                 Dont talk to him ever ok its my word.\n",
      "5260    If anyone calls for a treadmill say you'll buy...\n",
      "500     Fighting with the world is easy, u either win ...\n",
      "3885    Same, I'm at my great aunts anniversary party ...\n",
      "4517    That sucks. So what do you got planned for you...\n",
      "Name: v2, Length: 4457, dtype: object\n"
     ]
    }
   ],
   "source": [
    "print(X_TRAIN)"
   ]
  },
  {
   "cell_type": "code",
   "execution_count": 27,
   "id": "3bae198b",
   "metadata": {},
   "outputs": [
    {
     "name": "stdout",
     "output_type": "stream",
     "text": [
      "  (0, 7111)\t0.29395209267587863\n",
      "  (0, 6089)\t0.28868801522726256\n",
      "  (0, 5624)\t0.34333854151986914\n",
      "  (0, 6751)\t0.22726280438860133\n",
      "  (0, 3643)\t0.2727037609643373\n",
      "  (0, 880)\t0.3273542872569439\n",
      "  (0, 4548)\t0.18032191606739686\n",
      "  (0, 2743)\t0.5773760304545251\n",
      "  (0, 3173)\t0.2352890868064062\n",
      "  (0, 7354)\t0.2407352524384869\n",
      "  (1, 1689)\t0.40646209221709956\n",
      "  (1, 4251)\t0.3686140007969257\n",
      "  (1, 4585)\t0.383004097164064\n",
      "  (1, 6988)\t0.5257366374672136\n",
      "  (1, 3340)\t0.32777629629608457\n",
      "  (1, 1853)\t0.2983824770494377\n",
      "  (1, 4714)\t0.2816943956905303\n",
      "  (2, 4311)\t0.2901984684920195\n",
      "  (2, 3150)\t0.21938863758877808\n",
      "  (2, 4085)\t0.2196694997350404\n",
      "  (2, 3949)\t0.22197200975383446\n",
      "  (2, 2548)\t0.43729306916357014\n",
      "  (2, 5851)\t0.3738900221033275\n",
      "  (2, 5289)\t0.39267306950647696\n",
      "  (2, 6410)\t0.35253761012334\n",
      "  :\t:\n",
      "  (4453, 3996)\t0.17716981535398107\n",
      "  (4453, 3150)\t0.18306678172055313\n",
      "  (4453, 4085)\t0.18330114449242899\n",
      "  (4454, 2257)\t0.22587339157649133\n",
      "  (4454, 2741)\t0.22587339157649133\n",
      "  (4454, 1796)\t0.1834926239838099\n",
      "  (4454, 6012)\t0.21444849911383998\n",
      "  (4454, 2740)\t0.21444849911383998\n",
      "  (4454, 2447)\t0.1720677315211585\n",
      "  (4454, 7249)\t0.1672804435743553\n",
      "  (4454, 4044)\t0.7706485316582216\n",
      "  (4454, 1490)\t0.1720677315211585\n",
      "  (4454, 7178)\t0.3020265662877419\n",
      "  (4455, 6126)\t0.4568730247880503\n",
      "  (4455, 6429)\t0.4568730247880503\n",
      "  (4455, 1108)\t0.43560313017687\n",
      "  (4455, 4875)\t0.3674453242648059\n",
      "  (4455, 941)\t0.43560313017687\n",
      "  (4455, 3123)\t0.2608022969189348\n",
      "  (4456, 6294)\t0.3146336368633607\n",
      "  (4456, 6920)\t0.6292672737267214\n",
      "  (4456, 1015)\t0.32883129520661364\n",
      "  (4456, 5011)\t0.3146336368633607\n",
      "  (4456, 3088)\t0.17978680526785526\n",
      "  (4456, 7354)\t0.51534525443544\n"
     ]
    }
   ],
   "source": [
    "print(X_TRAIN_FEATURES)"
   ]
  },
  {
   "cell_type": "code",
   "execution_count": 28,
   "id": "36bf4c43",
   "metadata": {},
   "outputs": [],
   "source": [
    "model = LogisticRegression()"
   ]
  },
  {
   "cell_type": "code",
   "execution_count": 29,
   "id": "1ffadf74",
   "metadata": {},
   "outputs": [
    {
     "data": {
      "text/plain": [
       "LogisticRegression()"
      ]
     },
     "execution_count": 29,
     "metadata": {},
     "output_type": "execute_result"
    }
   ],
   "source": [
    "model.fit(X_TRAIN_FEATURES,Y_TRAIN)"
   ]
  },
  {
   "cell_type": "code",
   "execution_count": 30,
   "id": "82c1dc51",
   "metadata": {},
   "outputs": [],
   "source": [
    "# MODEL_PREDICTION"
   ]
  },
  {
   "cell_type": "code",
   "execution_count": 31,
   "id": "0eaa0ebc",
   "metadata": {},
   "outputs": [],
   "source": [
    "Prediction_on_training = model.predict(X_TRAIN_FEATURES)\n",
    "accuracy_on_training = accuracy_score(Y_TRAIN,Prediction_on_training)"
   ]
  },
  {
   "cell_type": "code",
   "execution_count": 32,
   "id": "db9b67c2",
   "metadata": {},
   "outputs": [
    {
     "name": "stdout",
     "output_type": "stream",
     "text": [
      "accuracy on training data:  0.9694862014808167\n"
     ]
    }
   ],
   "source": [
    "print(\"accuracy on training data: \",accuracy_on_training)"
   ]
  },
  {
   "cell_type": "code",
   "execution_count": 33,
   "id": "81085643",
   "metadata": {},
   "outputs": [],
   "source": [
    "Prediction_on_testing = model.predict(X_TEST_FEATURES)\n",
    "accuracy_on_testing = accuracy_score(Y_TEST,Prediction_on_testing)"
   ]
  },
  {
   "cell_type": "code",
   "execution_count": 34,
   "id": "000cac19",
   "metadata": {},
   "outputs": [
    {
     "name": "stdout",
     "output_type": "stream",
     "text": [
      "accuracy on testing data:  0.9560538116591928\n"
     ]
    }
   ],
   "source": [
    "print(\"accuracy on testing data: \",accuracy_on_testing)"
   ]
  },
  {
   "cell_type": "code",
   "execution_count": 35,
   "id": "26f71a52",
   "metadata": {},
   "outputs": [],
   "source": [
    "# SPAM DETECTIOR"
   ]
  },
  {
   "cell_type": "code",
   "execution_count": 36,
   "id": "b8255490",
   "metadata": {},
   "outputs": [
    {
     "name": "stdout",
     "output_type": "stream",
     "text": [
      "[0]\n",
      "Spam mail\n"
     ]
    }
   ],
   "source": [
    "input_mail = [\"WINNER!! As a valued network customer you have been selected to receivea 螢900 prize reward! To claim call 09061701461. Claim code KL341. Valid 12 hours only.\"]\n",
    "input_data_features = feature_extraction.transform(input_mail)\n",
    "prediction = model.predict(input_data_features)\n",
    "print(prediction)\n",
    "if(prediction[0]==1):\n",
    "    print(\"Ham mail\")\n",
    "    \n",
    "else:\n",
    "    print(\"Spam mail\")"
   ]
  },
  {
   "cell_type": "code",
   "execution_count": null,
   "id": "9d86d848",
   "metadata": {},
   "outputs": [],
   "source": []
  },
  {
   "cell_type": "code",
   "execution_count": null,
   "id": "39d6af44",
   "metadata": {},
   "outputs": [],
   "source": []
  }
 ],
 "metadata": {
  "kernelspec": {
   "display_name": "Python 3",
   "language": "python",
   "name": "python3"
  },
  "language_info": {
   "codemirror_mode": {
    "name": "ipython",
    "version": 3
   },
   "file_extension": ".py",
   "mimetype": "text/x-python",
   "name": "python",
   "nbconvert_exporter": "python",
   "pygments_lexer": "ipython3",
   "version": "3.8.8"
  }
 },
 "nbformat": 4,
 "nbformat_minor": 5
}
